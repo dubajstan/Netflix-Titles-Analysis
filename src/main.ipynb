{
 "cells": [
  {
   "cell_type": "markdown",
   "id": "f46da503",
   "metadata": {},
   "source": [
    "# Analysis of Netflix Titles dataset"
   ]
  },
  {
   "cell_type": "markdown",
   "id": "bc911717",
   "metadata": {},
   "source": [
    "#### Loading the dataset"
   ]
  },
  {
   "cell_type": "code",
   "execution_count": 62,
   "id": "8c516493",
   "metadata": {},
   "outputs": [
    {
     "data": {
      "application/vnd.microsoft.datawrangler.viewer.v0+json": {
       "columns": [
        {
         "name": "index",
         "rawType": "int64",
         "type": "integer"
        },
        {
         "name": "show_id",
         "rawType": "object",
         "type": "string"
        },
        {
         "name": "type",
         "rawType": "object",
         "type": "string"
        },
        {
         "name": "title",
         "rawType": "object",
         "type": "string"
        },
        {
         "name": "director",
         "rawType": "object",
         "type": "unknown"
        },
        {
         "name": "cast",
         "rawType": "object",
         "type": "unknown"
        },
        {
         "name": "country",
         "rawType": "object",
         "type": "unknown"
        },
        {
         "name": "date_added",
         "rawType": "object",
         "type": "string"
        },
        {
         "name": "release_year",
         "rawType": "int64",
         "type": "integer"
        },
        {
         "name": "rating",
         "rawType": "object",
         "type": "string"
        },
        {
         "name": "duration",
         "rawType": "object",
         "type": "string"
        },
        {
         "name": "listed_in",
         "rawType": "object",
         "type": "string"
        },
        {
         "name": "description",
         "rawType": "object",
         "type": "string"
        }
       ],
       "ref": "56b2d323-588c-432c-8743-e4cb58d5b29d",
       "rows": [
        [
         "0",
         "s1",
         "Movie",
         "Dick Johnson Is Dead",
         "Kirsten Johnson",
         null,
         "United States",
         "September 25, 2021",
         "2020",
         "PG-13",
         "90 min",
         "Documentaries",
         "As her father nears the end of his life, filmmaker Kirsten Johnson stages his death in inventive and comical ways to help them both face the inevitable."
        ],
        [
         "1",
         "s2",
         "TV Show",
         "Blood & Water",
         null,
         "Ama Qamata, Khosi Ngema, Gail Mabalane, Thabang Molaba, Dillon Windvogel, Natasha Thahane, Arno Greeff, Xolile Tshabalala, Getmore Sithole, Cindy Mahlangu, Ryle De Morny, Greteli Fincham, Sello Maake Ka-Ncube, Odwa Gwanya, Mekaila Mathys, Sandi Schultz, Duane Williams, Shamilla Miller, Patrick Mofokeng",
         "South Africa",
         "September 24, 2021",
         "2021",
         "TV-MA",
         "2 Seasons",
         "International TV Shows, TV Dramas, TV Mysteries",
         "After crossing paths at a party, a Cape Town teen sets out to prove whether a private-school swimming star is her sister who was abducted at birth."
        ],
        [
         "2",
         "s3",
         "TV Show",
         "Ganglands",
         "Julien Leclercq",
         "Sami Bouajila, Tracy Gotoas, Samuel Jouy, Nabiha Akkari, Sofia Lesaffre, Salim Kechiouche, Noureddine Farihi, Geert Van Rampelberg, Bakary Diombera",
         null,
         "September 24, 2021",
         "2021",
         "TV-MA",
         "1 Season",
         "Crime TV Shows, International TV Shows, TV Action & Adventure",
         "To protect his family from a powerful drug lord, skilled thief Mehdi and his expert team of robbers are pulled into a violent and deadly turf war."
        ],
        [
         "3",
         "s4",
         "TV Show",
         "Jailbirds New Orleans",
         null,
         null,
         null,
         "September 24, 2021",
         "2021",
         "TV-MA",
         "1 Season",
         "Docuseries, Reality TV",
         "Feuds, flirtations and toilet talk go down among the incarcerated women at the Orleans Justice Center in New Orleans on this gritty reality series."
        ],
        [
         "4",
         "s5",
         "TV Show",
         "Kota Factory",
         null,
         "Mayur More, Jitendra Kumar, Ranjan Raj, Alam Khan, Ahsaas Channa, Revathi Pillai, Urvi Singh, Arun Kumar",
         "India",
         "September 24, 2021",
         "2021",
         "TV-MA",
         "2 Seasons",
         "International TV Shows, Romantic TV Shows, TV Comedies",
         "In a city of coaching centers known to train India’s finest collegiate minds, an earnest but unexceptional student and his friends navigate campus life."
        ]
       ],
       "shape": {
        "columns": 12,
        "rows": 5
       }
      },
      "text/html": [
       "<div>\n",
       "<style scoped>\n",
       "    .dataframe tbody tr th:only-of-type {\n",
       "        vertical-align: middle;\n",
       "    }\n",
       "\n",
       "    .dataframe tbody tr th {\n",
       "        vertical-align: top;\n",
       "    }\n",
       "\n",
       "    .dataframe thead th {\n",
       "        text-align: right;\n",
       "    }\n",
       "</style>\n",
       "<table border=\"1\" class=\"dataframe\">\n",
       "  <thead>\n",
       "    <tr style=\"text-align: right;\">\n",
       "      <th></th>\n",
       "      <th>show_id</th>\n",
       "      <th>type</th>\n",
       "      <th>title</th>\n",
       "      <th>director</th>\n",
       "      <th>cast</th>\n",
       "      <th>country</th>\n",
       "      <th>date_added</th>\n",
       "      <th>release_year</th>\n",
       "      <th>rating</th>\n",
       "      <th>duration</th>\n",
       "      <th>listed_in</th>\n",
       "      <th>description</th>\n",
       "    </tr>\n",
       "  </thead>\n",
       "  <tbody>\n",
       "    <tr>\n",
       "      <th>0</th>\n",
       "      <td>s1</td>\n",
       "      <td>Movie</td>\n",
       "      <td>Dick Johnson Is Dead</td>\n",
       "      <td>Kirsten Johnson</td>\n",
       "      <td>NaN</td>\n",
       "      <td>United States</td>\n",
       "      <td>September 25, 2021</td>\n",
       "      <td>2020</td>\n",
       "      <td>PG-13</td>\n",
       "      <td>90 min</td>\n",
       "      <td>Documentaries</td>\n",
       "      <td>As her father nears the end of his life, filmm...</td>\n",
       "    </tr>\n",
       "    <tr>\n",
       "      <th>1</th>\n",
       "      <td>s2</td>\n",
       "      <td>TV Show</td>\n",
       "      <td>Blood &amp; Water</td>\n",
       "      <td>NaN</td>\n",
       "      <td>Ama Qamata, Khosi Ngema, Gail Mabalane, Thaban...</td>\n",
       "      <td>South Africa</td>\n",
       "      <td>September 24, 2021</td>\n",
       "      <td>2021</td>\n",
       "      <td>TV-MA</td>\n",
       "      <td>2 Seasons</td>\n",
       "      <td>International TV Shows, TV Dramas, TV Mysteries</td>\n",
       "      <td>After crossing paths at a party, a Cape Town t...</td>\n",
       "    </tr>\n",
       "    <tr>\n",
       "      <th>2</th>\n",
       "      <td>s3</td>\n",
       "      <td>TV Show</td>\n",
       "      <td>Ganglands</td>\n",
       "      <td>Julien Leclercq</td>\n",
       "      <td>Sami Bouajila, Tracy Gotoas, Samuel Jouy, Nabi...</td>\n",
       "      <td>NaN</td>\n",
       "      <td>September 24, 2021</td>\n",
       "      <td>2021</td>\n",
       "      <td>TV-MA</td>\n",
       "      <td>1 Season</td>\n",
       "      <td>Crime TV Shows, International TV Shows, TV Act...</td>\n",
       "      <td>To protect his family from a powerful drug lor...</td>\n",
       "    </tr>\n",
       "    <tr>\n",
       "      <th>3</th>\n",
       "      <td>s4</td>\n",
       "      <td>TV Show</td>\n",
       "      <td>Jailbirds New Orleans</td>\n",
       "      <td>NaN</td>\n",
       "      <td>NaN</td>\n",
       "      <td>NaN</td>\n",
       "      <td>September 24, 2021</td>\n",
       "      <td>2021</td>\n",
       "      <td>TV-MA</td>\n",
       "      <td>1 Season</td>\n",
       "      <td>Docuseries, Reality TV</td>\n",
       "      <td>Feuds, flirtations and toilet talk go down amo...</td>\n",
       "    </tr>\n",
       "    <tr>\n",
       "      <th>4</th>\n",
       "      <td>s5</td>\n",
       "      <td>TV Show</td>\n",
       "      <td>Kota Factory</td>\n",
       "      <td>NaN</td>\n",
       "      <td>Mayur More, Jitendra Kumar, Ranjan Raj, Alam K...</td>\n",
       "      <td>India</td>\n",
       "      <td>September 24, 2021</td>\n",
       "      <td>2021</td>\n",
       "      <td>TV-MA</td>\n",
       "      <td>2 Seasons</td>\n",
       "      <td>International TV Shows, Romantic TV Shows, TV ...</td>\n",
       "      <td>In a city of coaching centers known to train I...</td>\n",
       "    </tr>\n",
       "  </tbody>\n",
       "</table>\n",
       "</div>"
      ],
      "text/plain": [
       "  show_id     type                  title         director  \\\n",
       "0      s1    Movie   Dick Johnson Is Dead  Kirsten Johnson   \n",
       "1      s2  TV Show          Blood & Water              NaN   \n",
       "2      s3  TV Show              Ganglands  Julien Leclercq   \n",
       "3      s4  TV Show  Jailbirds New Orleans              NaN   \n",
       "4      s5  TV Show           Kota Factory              NaN   \n",
       "\n",
       "                                                cast        country  \\\n",
       "0                                                NaN  United States   \n",
       "1  Ama Qamata, Khosi Ngema, Gail Mabalane, Thaban...   South Africa   \n",
       "2  Sami Bouajila, Tracy Gotoas, Samuel Jouy, Nabi...            NaN   \n",
       "3                                                NaN            NaN   \n",
       "4  Mayur More, Jitendra Kumar, Ranjan Raj, Alam K...          India   \n",
       "\n",
       "           date_added  release_year rating   duration  \\\n",
       "0  September 25, 2021          2020  PG-13     90 min   \n",
       "1  September 24, 2021          2021  TV-MA  2 Seasons   \n",
       "2  September 24, 2021          2021  TV-MA   1 Season   \n",
       "3  September 24, 2021          2021  TV-MA   1 Season   \n",
       "4  September 24, 2021          2021  TV-MA  2 Seasons   \n",
       "\n",
       "                                           listed_in  \\\n",
       "0                                      Documentaries   \n",
       "1    International TV Shows, TV Dramas, TV Mysteries   \n",
       "2  Crime TV Shows, International TV Shows, TV Act...   \n",
       "3                             Docuseries, Reality TV   \n",
       "4  International TV Shows, Romantic TV Shows, TV ...   \n",
       "\n",
       "                                         description  \n",
       "0  As her father nears the end of his life, filmm...  \n",
       "1  After crossing paths at a party, a Cape Town t...  \n",
       "2  To protect his family from a powerful drug lor...  \n",
       "3  Feuds, flirtations and toilet talk go down amo...  \n",
       "4  In a city of coaching centers known to train I...  "
      ]
     },
     "execution_count": 62,
     "metadata": {},
     "output_type": "execute_result"
    }
   ],
   "source": [
    "# Setup\n",
    "import pandas as pd\n",
    "import seaborn as sns\n",
    "import matplotlib.pyplot as plt\n",
    "\n",
    "df = pd.read_csv('../data/netflix_titles.csv')\n",
    "df.head()"
   ]
  },
  {
   "cell_type": "markdown",
   "id": "eed67c0a",
   "metadata": {},
   "source": [
    "#### Setting color palette"
   ]
  },
  {
   "cell_type": "code",
   "execution_count": 63,
   "id": "abee0e69",
   "metadata": {},
   "outputs": [
    {
     "data": {
      "image/png": "[encoded data removed]",
      "text/plain": [
       "<Figure size 600x100 with 1 Axes>"
      ]
     },
     "metadata": {},
     "output_type": "display_data"
    }
   ],
   "source": [
    "palette = sns.color_palette(palette='rocket')\n",
    "sns.set_palette(palette)\n",
    "sns.palplot(palette)\n",
    "\n",
    "sns.set_style('whitegrid')"
   ]
  },
  {
   "cell_type": "markdown",
   "id": "ed9c8009",
   "metadata": {},
   "source": [
    "#### Quantity comparison of films and series"
   ]
  },
  {
   "cell_type": "code",
   "execution_count": 64,
   "id": "f1936159",
   "metadata": {},
   "outputs": [
    {
     "data": {
      "text/plain": [
       "<Axes: xlabel='type', ylabel='quantity'>"
      ]
     },
     "execution_count": 64,
     "metadata": {},
     "output_type": "execute_result"
    },
    {
     "data": {
      "image/png": "[encoded data removed]",
      "text/plain": [
       "<Figure size 640x480 with 1 Axes>"
      ]
     },
     "metadata": {},
     "output_type": "display_data"
    }
   ],
   "source": [
    "quantity = df.groupby('type').size().reset_index(name='quantity')\n",
    "sns.barplot(data=quantity, x='type', y='quantity')"
   ]
  },
  {
   "cell_type": "markdown",
   "id": "0d3cc2e1",
   "metadata": {},
   "source": [
    "#### Percentage comparision of movies and series"
   ]
  },
  {
   "cell_type": "code",
   "execution_count": 65,
   "id": "d1217c95",
   "metadata": {},
   "outputs": [
    {
     "data": {
      "text/plain": [
       "[Text(0, 0, '69.62%'), Text(0, 0, '30.38%')]"
      ]
     },
     "execution_count": 65,
     "metadata": {},
     "output_type": "execute_result"
    },
    {
     "data": {
      "image/png": "[encoded data removed]",
      "text/plain": [
       "<Figure size 640x480 with 1 Axes>"
      ]
     },
     "metadata": {},
     "output_type": "display_data"
    }
   ],
   "source": [
    "quantity['percentage'] = quantity['quantity'] / quantity['quantity'].sum() * 100\n",
    "ax = sns.barplot(data=quantity, x='type', y='percentage')\n",
    "ax.bar_label(ax.containers[0], fmt='%.2f%%')\n"
   ]
  },
  {
   "cell_type": "markdown",
   "id": "63b847a8",
   "metadata": {},
   "source": [
    "#### Top 5 most popular directors"
   ]
  },
  {
   "cell_type": "code",
   "execution_count": 66,
   "id": "cdb918c3",
   "metadata": {},
   "outputs": [
    {
     "data": {
      "application/vnd.microsoft.datawrangler.viewer.v0+json": {
       "columns": [
        {
         "name": "index",
         "rawType": "int64",
         "type": "integer"
        },
        {
         "name": "director",
         "rawType": "object",
         "type": "string"
        },
        {
         "name": "quantity",
         "rawType": "int64",
         "type": "integer"
        }
       ],
       "ref": "ac4f92aa-e5f0-42fe-9283-c2bb0218f654",
       "rows": [
        [
         "3392",
         "Rajiv Chilaka",
         "19"
        ],
        [
         "3443",
         "Raúl Campos, Jan Suter",
         "18"
        ],
        [
         "2598",
         "Marcus Raboy",
         "16"
        ],
        [
         "4046",
         "Suhas Kadav",
         "16"
        ],
        [
         "1790",
         "Jay Karas",
         "14"
        ],
        [
         "685",
         "Cathy Garcia-Molina",
         "13"
        ],
        [
         "1787",
         "Jay Chapman",
         "12"
        ],
        [
         "2671",
         "Martin Scorsese",
         "12"
        ],
        [
         "4480",
         "Youssef Chahine",
         "12"
        ],
        [
         "4020",
         "Steven Spielberg",
         "11"
        ]
       ],
       "shape": {
        "columns": 2,
        "rows": 10
       }
      },
      "text/html": [
       "<div>\n",
       "<style scoped>\n",
       "    .dataframe tbody tr th:only-of-type {\n",
       "        vertical-align: middle;\n",
       "    }\n",
       "\n",
       "    .dataframe tbody tr th {\n",
       "        vertical-align: top;\n",
       "    }\n",
       "\n",
       "    .dataframe thead th {\n",
       "        text-align: right;\n",
       "    }\n",
       "</style>\n",
       "<table border=\"1\" class=\"dataframe\">\n",
       "  <thead>\n",
       "    <tr style=\"text-align: right;\">\n",
       "      <th></th>\n",
       "      <th>director</th>\n",
       "      <th>quantity</th>\n",
       "    </tr>\n",
       "  </thead>\n",
       "  <tbody>\n",
       "    <tr>\n",
       "      <th>3392</th>\n",
       "      <td>Rajiv Chilaka</td>\n",
       "      <td>19</td>\n",
       "    </tr>\n",
       "    <tr>\n",
       "      <th>3443</th>\n",
       "      <td>Raúl Campos, Jan Suter</td>\n",
       "      <td>18</td>\n",
       "    </tr>\n",
       "    <tr>\n",
       "      <th>2598</th>\n",
       "      <td>Marcus Raboy</td>\n",
       "      <td>16</td>\n",
       "    </tr>\n",
       "    <tr>\n",
       "      <th>4046</th>\n",
       "      <td>Suhas Kadav</td>\n",
       "      <td>16</td>\n",
       "    </tr>\n",
       "    <tr>\n",
       "      <th>1790</th>\n",
       "      <td>Jay Karas</td>\n",
       "      <td>14</td>\n",
       "    </tr>\n",
       "    <tr>\n",
       "      <th>685</th>\n",
       "      <td>Cathy Garcia-Molina</td>\n",
       "      <td>13</td>\n",
       "    </tr>\n",
       "    <tr>\n",
       "      <th>1787</th>\n",
       "      <td>Jay Chapman</td>\n",
       "      <td>12</td>\n",
       "    </tr>\n",
       "    <tr>\n",
       "      <th>2671</th>\n",
       "      <td>Martin Scorsese</td>\n",
       "      <td>12</td>\n",
       "    </tr>\n",
       "    <tr>\n",
       "      <th>4480</th>\n",
       "      <td>Youssef Chahine</td>\n",
       "      <td>12</td>\n",
       "    </tr>\n",
       "    <tr>\n",
       "      <th>4020</th>\n",
       "      <td>Steven Spielberg</td>\n",
       "      <td>11</td>\n",
       "    </tr>\n",
       "  </tbody>\n",
       "</table>\n",
       "</div>"
      ],
      "text/plain": [
       "                    director  quantity\n",
       "3392           Rajiv Chilaka        19\n",
       "3443  Raúl Campos, Jan Suter        18\n",
       "2598            Marcus Raboy        16\n",
       "4046             Suhas Kadav        16\n",
       "1790               Jay Karas        14\n",
       "685      Cathy Garcia-Molina        13\n",
       "1787             Jay Chapman        12\n",
       "2671         Martin Scorsese        12\n",
       "4480         Youssef Chahine        12\n",
       "4020        Steven Spielberg        11"
      ]
     },
     "execution_count": 66,
     "metadata": {},
     "output_type": "execute_result"
    }
   ],
   "source": [
    "directors = df.groupby('director').size().reset_index(name='quantity')\n",
    "directors.nlargest(10, 'quantity')"
   ]
  },
  {
   "cell_type": "markdown",
   "id": "9c850006",
   "metadata": {},
   "source": [
    "#### Top 15 most popular actors and actresses"
   ]
  },
  {
   "cell_type": "code",
   "execution_count": 67,
   "id": "b34869f1",
   "metadata": {},
   "outputs": [
    {
     "data": {
      "application/vnd.microsoft.datawrangler.viewer.v0+json": {
       "columns": [
        {
         "name": "cast",
         "rawType": "object",
         "type": "string"
        },
        {
         "name": "count",
         "rawType": "int64",
         "type": "integer"
        }
       ],
       "ref": "4c5d4086-206e-49ca-9040-24bc24c7afdb",
       "rows": [
        [
         " Anupam Kher",
         "39"
        ],
        [
         " Rupa Bhimani",
         "31"
        ],
        [
         " Takahiro Sakurai",
         "30"
        ],
        [
         " Julie Tejwani",
         "28"
        ],
        [
         " Om Puri",
         "27"
        ],
        [
         "Shah Rukh Khan",
         "26"
        ],
        [
         " Rajesh Kava",
         "26"
        ],
        [
         " Boman Irani",
         "25"
        ],
        [
         " Paresh Rawal",
         "25"
        ],
        [
         " Andrea Libman",
         "25"
        ],
        [
         " Yuki Kaji",
         "25"
        ],
        [
         " Vincent Tong",
         "24"
        ],
        [
         "Akshay Kumar",
         "23"
        ],
        [
         " Jigna Bhardwaj",
         "23"
        ],
        [
         " Fred Tatasciore",
         "21"
        ]
       ],
       "shape": {
        "columns": 1,
        "rows": 15
       }
      },
      "text/plain": [
       "cast\n",
       " Anupam Kher         39\n",
       " Rupa Bhimani        31\n",
       " Takahiro Sakurai    30\n",
       " Julie Tejwani       28\n",
       " Om Puri             27\n",
       "Shah Rukh Khan       26\n",
       " Rajesh Kava         26\n",
       " Boman Irani         25\n",
       " Paresh Rawal        25\n",
       " Andrea Libman       25\n",
       " Yuki Kaji           25\n",
       " Vincent Tong        24\n",
       "Akshay Kumar         23\n",
       " Jigna Bhardwaj      23\n",
       " Fred Tatasciore     21\n",
       "Name: count, dtype: int64"
      ]
     },
     "execution_count": 67,
     "metadata": {},
     "output_type": "execute_result"
    }
   ],
   "source": [
    "actors = df.cast.str.split(',')\n",
    "actors = actors.explode('cast')\n",
    "top15_actors = actors.value_counts()\n",
    "top15_actors = top15_actors.head(15)\n",
    "top15_actors"
   ]
  },
  {
   "cell_type": "markdown",
   "id": "277c00c4",
   "metadata": {},
   "source": [
    "#### Top 15 most popular actors from USA movies"
   ]
  },
  {
   "cell_type": "code",
   "execution_count": 68,
   "id": "af27320c",
   "metadata": {},
   "outputs": [
    {
     "data": {
      "application/vnd.microsoft.datawrangler.viewer.v0+json": {
       "columns": [
        {
         "name": "cast",
         "rawType": "object",
         "type": "string"
        },
        {
         "name": "count",
         "rawType": "int64",
         "type": "integer"
        }
       ],
       "ref": "6f0c1440-bd93-494d-931c-77143ffd127b",
       "rows": [
        [
         "Adam Sandler",
         "20"
        ],
        [
         " Samuel L. Jackson",
         "12"
        ],
        [
         " Molly Shannon",
         "12"
        ],
        [
         " Ray Liotta",
         "11"
        ],
        [
         " Erin Fitzgerald",
         "11"
        ],
        [
         " Steve Buscemi",
         "10"
        ],
        [
         "Nicolas Cage",
         "10"
        ],
        [
         " Michael Peña",
         "10"
        ],
        [
         " David Koechner",
         "10"
        ],
        [
         " Danny McBride",
         "10"
        ],
        [
         " Fred Tatasciore",
         "10"
        ],
        [
         " Danny Trejo",
         "10"
        ],
        [
         " Kate Higgins",
         "9"
        ],
        [
         " Woody Harrelson",
         "9"
        ],
        [
         "Kevin Hart",
         "9"
        ]
       ],
       "shape": {
        "columns": 1,
        "rows": 15
       }
      },
      "text/plain": [
       "cast\n",
       "Adam Sandler          20\n",
       " Samuel L. Jackson    12\n",
       " Molly Shannon        12\n",
       " Ray Liotta           11\n",
       " Erin Fitzgerald      11\n",
       " Steve Buscemi        10\n",
       "Nicolas Cage          10\n",
       " Michael Peña         10\n",
       " David Koechner       10\n",
       " Danny McBride        10\n",
       " Fred Tatasciore      10\n",
       " Danny Trejo          10\n",
       " Kate Higgins          9\n",
       " Woody Harrelson       9\n",
       "Kevin Hart             9\n",
       "Name: count, dtype: int64"
      ]
     },
     "execution_count": 68,
     "metadata": {},
     "output_type": "execute_result"
    }
   ],
   "source": [
    "actors_usa = df[(df.country == 'United States') & (df.type == 'Movie')].cast.str.split(',')\n",
    "actors_usa = actors_usa.explode('cast')\n",
    "top15_actors_usa = actors_usa.value_counts()\n",
    "top15_actors_usa = top15_actors_usa.head(15)\n",
    "top15_actors_usa"
   ]
  },
  {
   "cell_type": "markdown",
   "id": "31df3c19",
   "metadata": {},
   "source": [
    "#### Quantity comparison of movie and series genres"
   ]
  },
  {
   "cell_type": "code",
   "execution_count": 69,
   "id": "a8fb0b49",
   "metadata": {},
   "outputs": [
    {
     "data": {
      "text/plain": [
       "([0, 1, 2, 3, 4, 5, 6, 7, 8, 9],\n",
       " [Text(0, 0, ' International Movies'),\n",
       "  Text(1, 0, 'Dramas'),\n",
       "  Text(2, 0, 'Comedies'),\n",
       "  Text(3, 0, 'Action & Adventure'),\n",
       "  Text(4, 0, 'Documentaries'),\n",
       "  Text(5, 0, ' Dramas'),\n",
       "  Text(6, 0, 'International TV Shows'),\n",
       "  Text(7, 0, ' Independent Movies'),\n",
       "  Text(8, 0, ' TV Dramas'),\n",
       "  Text(9, 0, ' Romantic Movies')])"
      ]
     },
     "execution_count": 69,
     "metadata": {},
     "output_type": "execute_result"
    },
    {
     "data": {
      "image/png": "[encoded data removed]",
      "text/plain": [
       "<Figure size 640x480 with 1 Axes>"
      ]
     },
     "metadata": {},
     "output_type": "display_data"
    }
   ],
   "source": [
    "genre = df['listed_in'].copy()\n",
    "genre = genre.str.split(',')\n",
    "genre = genre.explode('listed_in')\n",
    "genres = genre.value_counts().reset_index(name='quantity')\n",
    "sns.barplot(data=genres.head(10), x='listed_in', y='quantity')\n",
    "plt.xticks(rotation=90)"
   ]
  },
  {
   "cell_type": "code",
   "execution_count": null,
   "id": "3247f194",
   "metadata": {},
   "outputs": [
    {
     "data": {
      "text/plain": [
       "([0, 1, 2, 3, 4, 5, 6, 7, 8, 9],\n",
       " [Text(0, 0, 'Sci-Fi & Fantasy'),\n",
       "  Text(1, 0, 'Cult Movies'),\n",
       "  Text(2, 0, 'TV Horror'),\n",
       "  Text(3, 0, ' Stand-Up Comedy'),\n",
       "  Text(4, 0, ' Classic & Cult TV'),\n",
       "  Text(5, 0, 'Romantic Movies'),\n",
       "  Text(6, 0, 'Spanish-Language TV Shows'),\n",
       "  Text(7, 0, 'LGBTQ Movies'),\n",
       "  Text(8, 0, 'TV Sci-Fi & Fantasy'),\n",
       "  Text(9, 0, 'Sports Movies')])"
      ]
     },
     "execution_count": 71,
     "metadata": {},
     "output_type": "execute_result"
    },
    {
     "data": {
      "image/png": "[encoded data removed]",
      "text/plain": [
       "<Figure size 640x480 with 1 Axes>"
      ]
     },
     "metadata": {},
     "output_type": "display_data"
    }
   ],
   "source": [
    "sns.barplot(data=genres.tail(10), x='listed_in', y='quantity')\n",
    "plt.xticks(rotation=90) "
   ]
  },
  {
   "cell_type": "markdown",
   "id": "d74cff81",
   "metadata": {},
   "source": [
    "#### Quantity of movies and series released in each year (2000 - ...)"
   ]
  },
  {
   "cell_type": "code",
   "execution_count": 75,
   "id": "9e0c4f89",
   "metadata": {},
   "outputs": [
    {
     "data": {
      "text/plain": [
       "([0,\n",
       "  1,\n",
       "  2,\n",
       "  3,\n",
       "  4,\n",
       "  5,\n",
       "  6,\n",
       "  7,\n",
       "  8,\n",
       "  9,\n",
       "  10,\n",
       "  11,\n",
       "  12,\n",
       "  13,\n",
       "  14,\n",
       "  15,\n",
       "  16,\n",
       "  17,\n",
       "  18,\n",
       "  19,\n",
       "  20,\n",
       "  21],\n",
       " [Text(0, 0, '2000'),\n",
       "  Text(1, 0, '2001'),\n",
       "  Text(2, 0, '2002'),\n",
       "  Text(3, 0, '2003'),\n",
       "  Text(4, 0, '2004'),\n",
       "  Text(5, 0, '2005'),\n",
       "  Text(6, 0, '2006'),\n",
       "  Text(7, 0, '2007'),\n",
       "  Text(8, 0, '2008'),\n",
       "  Text(9, 0, '2009'),\n",
       "  Text(10, 0, '2010'),\n",
       "  Text(11, 0, '2011'),\n",
       "  Text(12, 0, '2012'),\n",
       "  Text(13, 0, '2013'),\n",
       "  Text(14, 0, '2014'),\n",
       "  Text(15, 0, '2015'),\n",
       "  Text(16, 0, '2016'),\n",
       "  Text(17, 0, '2017'),\n",
       "  Text(18, 0, '2018'),\n",
       "  Text(19, 0, '2019'),\n",
       "  Text(20, 0, '2020'),\n",
       "  Text(21, 0, '2021')])"
      ]
     },
     "execution_count": 75,
     "metadata": {},
     "output_type": "execute_result"
    },
    {
     "data": {
      "image/png": "[encoded data removed]",
      "text/plain": [
       "<Figure size 640x480 with 1 Axes>"
      ]
     },
     "metadata": {},
     "output_type": "display_data"
    }
   ],
   "source": [
    "years = df.groupby('release_year').size().reset_index(name='quantity')\n",
    "years = years[years['release_year'] >= 2000]\n",
    "sns.barplot(data=years, x='release_year', y='quantity')\n",
    "plt.xticks(rotation=90)"
   ]
  },
  {
   "cell_type": "code",
   "execution_count": null,
   "id": "d090127a",
   "metadata": {},
   "outputs": [
    {
     "data": {
      "text/plain": [
       "[2000, 2003, 2006, 2009, 2012, 2015, 2018]"
      ]
     },
     "execution_count": 83,
     "metadata": {},
     "output_type": "execute_result"
    }
   ],
   "source": [
    "# Co 3 lata\n",
    "bins = list(range(2000, 2021, 3))\n"
   ]
  }
 ],
 "metadata": {
  "kernelspec": {
   "display_name": "venv",
   "language": "python",
   "name": "python3"
  },
  "language_info": {
   "codemirror_mode": {
    "name": "ipython",
    "version": 3
   },
   "file_extension": ".py",
   "mimetype": "text/x-python",
   "name": "python",
   "nbconvert_exporter": "python",
   "pygments_lexer": "ipython3",
   "version": "3.13.2"
  }
 },
 "nbformat": 4,
 "nbformat_minor": 5
}
